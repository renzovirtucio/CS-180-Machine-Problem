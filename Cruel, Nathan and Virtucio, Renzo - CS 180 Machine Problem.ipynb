{
 "metadata": {
  "language_info": {
   "codemirror_mode": {
    "name": "ipython",
    "version": 3
   },
   "file_extension": ".py",
   "mimetype": "text/x-python",
   "name": "python",
   "nbconvert_exporter": "python",
   "pygments_lexer": "ipython3",
   "version": "3.8.3"
  },
  "orig_nbformat": 4,
  "kernelspec": {
   "name": "python3",
   "display_name": "Python 3.8.3 64-bit ('base': conda)"
  },
  "interpreter": {
   "hash": "cfd5a7cac39fdc4f6117414e25b495fef41d005aafc34504ecd905a9b163023b"
  }
 },
 "nbformat": 4,
 "nbformat_minor": 2,
 "cells": [
  {
   "source": [
    "# Machine Problem  \n",
    "Cruel, Nathaniel and Virtucio, Renzo  \n",
    "Department of Computer Science, University of the Philippines Diliman  \n",
    "CS 180: Artificial Intelligence  \n",
    "Professor Carlo Raquel  \n",
    "June 15, 2021\n",
    "***"
   ],
   "cell_type": "markdown",
   "metadata": {}
  },
  {
   "source": [
    "## Introduction to the Problem\n",
    "## Rationale\n",
    "## Objective"
   ],
   "cell_type": "markdown",
   "metadata": {}
  },
  {
   "source": [
    "## Methodology"
   ],
   "cell_type": "markdown",
   "metadata": {}
  },
  {
   "source": [
    "## Data and Analysis"
   ],
   "cell_type": "markdown",
   "metadata": {}
  },
  {
   "source": [
    "## Conclusion"
   ],
   "cell_type": "markdown",
   "metadata": {}
  },
  {
   "source": [
    "## Individual Contributions"
   ],
   "cell_type": "markdown",
   "metadata": {}
  }
 ]
}
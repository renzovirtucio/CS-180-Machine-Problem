{
 "cells": [
  {
   "cell_type": "markdown",
   "metadata": {},
   "source": [
    "# Machine Problem  \n",
    "Nathaniel Cruel and Renzo Virtucio  \n",
    "Department of Computer Science, University of the Philippines Diliman  \n",
    "CS 180: Artificial Intelligence  \n",
    "Professor Carlo Raquel  \n",
    "June 15, 2021\n",
    "***"
   ]
  },
  {
   "cell_type": "markdown",
   "metadata": {},
   "source": [
    "## Introduction to the Problem\n",
    "## Rationale\n",
    "## Objective"
   ]
  },
  {
   "cell_type": "markdown",
   "metadata": {},
   "source": [
    "## Methodology"
   ]
  },
  {
   "cell_type": "code",
   "execution_count": 54,
   "metadata": {},
   "outputs": [
    {
     "name": "stdout",
     "output_type": "stream",
     "text": [
      "(237, 32) (237,)\n",
      "(158, 32) (158,)\n"
     ]
    },
    {
     "data": {
      "text/plain": [
       "0.3860759493670886"
      ]
     },
     "execution_count": 54,
     "metadata": {},
     "output_type": "execute_result"
    }
   ],
   "source": [
    "import numpy as np\n",
    "import pandas as pd\n",
    "from sklearn.model_selection import train_test_split\n",
    "from sklearn import svm\n",
    "\n",
    "students_math = pd.read_csv('student/student-mat.csv', delimiter=';', header=0)\n",
    "\n",
    "students_math.shape\n",
    "\n",
    "# Preprocessing\n",
    "students_math.school = students_math.school.map({\"GP\":0, \"MS\":1})\n",
    "students_math.sex = students_math.sex.map({\"F\":0, \"M\":1})\n",
    "students_math.address = students_math.address.map({\"U\":0, \"R\":1})\n",
    "students_math.famsize = students_math.famsize.map({\"LE3\":0, \"GT3\":1})\n",
    "students_math.Pstatus = students_math.Pstatus.map({\"T\":0, \"A\":1})\n",
    "students_math.Mjob = students_math.Mjob.map({\"teacher\":0, \"health\":1, \"services\":2, \"at_home\":3, \"other\":4})\n",
    "students_math.Fjob = students_math.Fjob.map({\"teacher\":0, \"health\":1, \"services\":2, \"at_home\":3, \"other\":4})\n",
    "students_math.reason = students_math.reason.map({\"home\":0, \"reputation\":1, \"course\":2, \"other\":3})\n",
    "students_math.guardian = students_math.guardian.map({\"mother\":0, \"father\":1, \"other\":2})\n",
    "students_math.schoolsup = students_math.schoolsup.map({\"yes\":0, \"no\":1})\n",
    "students_math.famsup = students_math.famsup.map({\"yes\":0, \"no\":1})\n",
    "students_math.paid = students_math.paid.map({\"yes\":0, \"no\":1})\n",
    "students_math.activities = students_math.activities.map({\"yes\":0, \"no\":1})\n",
    "students_math.nursery = students_math.nursery.map({\"yes\":0, \"no\":1})\n",
    "students_math.higher = students_math.higher.map({\"yes\":0, \"no\":1})\n",
    "students_math.internet = students_math.internet.map({\"yes\":0, \"no\":1})\n",
    "students_math.romantic = students_math.romantic.map({\"yes\":0, \"no\":1})\n",
    "\n",
    "y = students_math['G3'].copy()\n",
    "X = students_math.drop('G3', axis=1)\n",
    "X.shape, y.shape\n",
    "\n",
    "X_train, X_test, y_train, y_test = train_test_split(\n",
    "    X, y, test_size=0.4, random_state=0)\n",
    "\n",
    "print(X_train.shape, y_train.shape)\n",
    "\n",
    "print(X_test.shape, y_test.shape)\n",
    "\n",
    "\n",
    "clf = svm.SVC(kernel='linear', C=1).fit(X_train, y_train)\n",
    "clf.score(X_test, y_test)"
   ]
  },
  {
   "cell_type": "markdown",
   "metadata": {},
   "source": [
    "## Data and Analysis"
   ]
  },
  {
   "cell_type": "markdown",
   "metadata": {},
   "source": [
    "## Conclusion"
   ]
  },
  {
   "cell_type": "markdown",
   "metadata": {},
   "source": [
    "## Individual Contributions"
   ]
  }
 ],
 "metadata": {
  "interpreter": {
   "hash": "cfd5a7cac39fdc4f6117414e25b495fef41d005aafc34504ecd905a9b163023b"
  },
  "kernelspec": {
   "display_name": "Python 3",
   "language": "python",
   "name": "python3"
  },
  "language_info": {
   "codemirror_mode": {
    "name": "ipython",
    "version": 3
   },
   "file_extension": ".py",
   "mimetype": "text/x-python",
   "name": "python",
   "nbconvert_exporter": "python",
   "pygments_lexer": "ipython3",
   "version": "3.8.3"
  }
 },
 "nbformat": 4,
 "nbformat_minor": 2
}
